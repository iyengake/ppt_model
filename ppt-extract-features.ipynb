{
 "cells": [
  {
   "cell_type": "code",
   "execution_count": null,
   "metadata": {
    "collapsed": true
   },
   "outputs": [],
   "source": [
    "# Initial experimentation code for feature generation\n",
    "from pptx import Presentation\n",
    "\n",
    "import pptx.util as pu\n",
    "\n",
    "from pptx.enum.shapes import MSO_SHAPE\n",
    "from pptx.dml.color import RGBColor\n",
    "from pptx.enum.dml import MSO_THEME_COLOR\n",
    "from pptx.util import Pt\n",
    "\n",
    "import pandas as pd\n",
    "import numpy as np\n",
    "\n",
    "import json"
   ]
  },
  {
   "cell_type": "code",
   "execution_count": null,
   "metadata": {
    "collapsed": false
   },
   "outputs": [],
   "source": [
    "prs = Presentation()\n",
    "title_slide_layout = prs.slide_layouts[0]\n",
    "slide = prs.slides.add_slide(title_slide_layout)\n",
    "title = slide.shapes.title\n",
    "subtitle = slide.placeholders[1]\n",
    "\n",
    "title.text = \"Hello, World!\"\n",
    "subtitle.text = \"python-pptx was here!\"\n",
    "shapes = slide.shapes\n",
    "string_slides = str(prs.slides)\n",
    "print(string_slides)\n",
    "prs.save('test.pptx')"
   ]
  },
  {
   "cell_type": "markdown",
   "metadata": {},
   "source": [
    "### TODO\n",
    "- Define main function to just load ppt and be interactive\n",
    "- Define a seperate file that tags slides for \"learning function\"\n",
    "- Seperate the text feature extraction into a seperate function\n",
    "- Add spell check\n",
    "- Seperate the font feature extraction into a seperate function\n",
    "- Seperate the smart shape/smart art \n",
    "- Generate features on the types of \"Shapes\"\n",
    "- Generate features on tables in use\n",
    "- Generate features on images used"
   ]
  },
  {
   "cell_type": "code",
   "execution_count": null,
   "metadata": {
    "collapsed": true
   },
   "outputs": [],
   "source": [
    "prs = Presentation('gdsstrategy.pptx')"
   ]
  },
  {
   "cell_type": "code",
   "execution_count": null,
   "metadata": {
    "collapsed": true
   },
   "outputs": [],
   "source": [
    "text_objects = []\n",
    "for slide in prs.slides:\n",
    "    for shape in slide.shapes:\n",
    "        if (shape.has_text_frame):\n",
    "            text_objects.append(shape.text_frame)\n",
    "        if (shape.has_table):\n",
    "            for r in shape.table.rows:\n",
    "                for c in r.cells:\n",
    "                    text_objects.append(c.text_frame)"
   ]
  },
  {
   "cell_type": "code",
   "execution_count": null,
   "metadata": {
    "collapsed": false,
    "scrolled": false
   },
   "outputs": [],
   "source": [
    "# Get Font information\n",
    "\n",
    "font_attributes = {\n",
    " 'bold': lambda x: x,\n",
    " 'color': lambda x: getattr(x, 'theme_color', -1),\n",
    " 'fill': lambda x: getattr(x, 'theme_color', -1),\n",
    " 'italic': lambda x: x,\n",
    " 'name': lambda x: x, \n",
    " 'size': lambda x: float(x if x else 0) / Pt(1), \n",
    " 'underline': lambda x: x}\n",
    "\n",
    "attribs = {f: [] for f in font_attributes.keys()}\n",
    "\n",
    "for frame in text_objects:\n",
    "    for pr in frame.paragraphs:\n",
    "        for r in pr.runs:\n",
    "            for attr, fn in font_attributes.iteritems():\n",
    "                attribs[attr].append(fn(getattr(r.font, attr, -1)))\n",
    "                \n",
    "print json.dumps(attribs, indent=4)"
   ]
  },
  {
   "cell_type": "code",
   "execution_count": null,
   "metadata": {
    "collapsed": false
   },
   "outputs": [],
   "source": [
    "np.mean(attribs[\"size\"])"
   ]
  },
  {
   "cell_type": "code",
   "execution_count": null,
   "metadata": {
    "collapsed": true
   },
   "outputs": [],
   "source": []
  }
 ],
 "metadata": {
  "celltoolbar": "Raw Cell Format",
  "kernelspec": {
   "display_name": "Python 2",
   "language": "python",
   "name": "python2"
  },
  "language_info": {
   "codemirror_mode": {
    "name": "ipython",
    "version": 2
   },
   "file_extension": ".py",
   "mimetype": "text/x-python",
   "name": "python",
   "nbconvert_exporter": "python",
   "pygments_lexer": "ipython2",
   "version": "2.7.10"
  }
 },
 "nbformat": 4,
 "nbformat_minor": 0
}
