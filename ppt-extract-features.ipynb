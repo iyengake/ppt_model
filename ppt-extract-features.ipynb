{
 "cells": [
  {
   "cell_type": "code",
   "execution_count": 19,
   "metadata": {
    "collapsed": false
   },
   "outputs": [
    {
     "name": "stdout",
     "output_type": "stream",
     "text": [
      "<pptx.parts.presentation._Slides object at 0x1071cf510>\n"
     ]
    }
   ],
   "source": [
    "# Example code to create a hello world powerpoint file\n",
    "from pptx import Presentation\n",
    "\n",
    "prs = Presentation()\n",
    "title_slide_layout = prs.slide_layouts[0]\n",
    "slide = prs.slides.add_slide(title_slide_layout)\n",
    "title = slide.shapes.title\n",
    "subtitle = slide.placeholders[1]\n",
    "\n",
    "title.text = \"Hello, World!\"\n",
    "subtitle.text = \"python-pptx was here!\"\n",
    "shapes = slide.shapes\n",
    "string_slides = str(prs.slides)\n",
    "print(string_slides)\n",
    "prs.save('test.pptx')"
   ]
  },
  {
   "cell_type": "code",
   "execution_count": 93,
   "metadata": {
    "collapsed": false
   },
   "outputs": [
    {
     "name": "stdout",
     "output_type": "stream",
     "text": [
      "[None, None, None, None, None, 133350, 133350, 203200, 203200, 114300, 114300, 114300, 114300, 114300, 114300, 114300, 114300, 114300, 114300, 114300, 114300, 114300, 114300, 114300, 114300, 114300, 114300, 114300, 114300, 114300, None, 101600, 101600, 101600, 101600, 101600, 101600, 101600, 101600, 101600, 101600, 228600, 139700, 139700, 139700, 139700, 139700, 139700, 139700, 139700, 139700, 139700, 139700, 127000, 127000, 127000, 127000, 127000, 127000, 127000, 127000, 127000]\n",
      "[10, 10, 10, 10, 10, 10, 10, 10, 10, 10, 10, 10, 10, 10, 10, 10, 10, 10, 10, 10, 10, 10, 10, 10, 10, 10, 10, 10, 10, 10, 10, 10, 10, 10, 10, 10, 10, 10, 10, 10, 14, 14, 14, 14, 14, 14, 14, 14, 14]\n"
     ]
    }
   ],
   "source": [
    "# Initial experimentation code for feature generation\n",
    "from pptx import Presentation\n",
    "from pptx.enum.shapes import MSO_SHAPE\n",
    "from pptx.dml.color import RGBColor\n",
    "from pptx.enum.dml import MSO_THEME_COLOR\n",
    "from pptx.util import Pt\n",
    "\n",
    "# TODO\n",
    "# Define main function to just load ppt and be interactive\n",
    "# Define a seperate file that tags slides for \"learning function\"\n",
    "# Seperate the text feature extraction into a seperate function\n",
    "# Add spell check\n",
    "# Seperate the font feature extraction into a seperate function\n",
    "# Seperate the smart shape/smart art \n",
    "# Generate features on the types of \"Shapes\"\n",
    "# Generate features on tables in use\n",
    "# Generate features on images used\n",
    "\n",
    "prs = Presentation('gdsstrategy.pptx')\n",
    "text_objects = []\n",
    "for slide in prs.slides:\n",
    "    for shape in slide.shapes:\n",
    "        if (shape.has_text_frame):\n",
    "            text_objects.append(shape.text_frame)\n",
    "        if (shape.has_table):\n",
    "            for r in shape.table.rows:\n",
    "                for c in r.cells:\n",
    "                    text_objects.append(c.text_frame)\n",
    "\n",
    "                    \n",
    "\n",
    "# Get Font information\n",
    "font_sizes=[]\n",
    "font_colors=[] # Note, American spelling. Also, only pick based on theme\n",
    "\n",
    "for frame in text_objects:\n",
    "    for pr in frame.paragraphs:\n",
    "        for r in pr.runs:\n",
    "            font_sizes.append(r.font.size)\n",
    "            if r.font.color.type!=None:\n",
    "                font_colors.append(r.font.color.theme_color)\n",
    "\n",
    "                \n",
    "                \n",
    "                \n",
    "## Testing and debug section\n",
    "print font_sizes\n",
    "print font_colors\n",
    "\n"
   ]
  },
  {
   "cell_type": "code",
   "execution_count": 20,
   "metadata": {
    "collapsed": false
   },
   "outputs": [],
   "source": []
  }
 ],
 "metadata": {
  "celltoolbar": "Raw Cell Format",
  "kernelspec": {
   "display_name": "Python 2",
   "language": "python",
   "name": "python2"
  },
  "language_info": {
   "codemirror_mode": {
    "name": "ipython",
    "version": 2
   },
   "file_extension": ".py",
   "mimetype": "text/x-python",
   "name": "python",
   "nbconvert_exporter": "python",
   "pygments_lexer": "ipython2",
   "version": "2.7.11"
  }
 },
 "nbformat": 4,
 "nbformat_minor": 0
}
